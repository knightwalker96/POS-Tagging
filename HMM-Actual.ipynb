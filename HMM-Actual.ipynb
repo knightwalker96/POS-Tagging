{
 "cells": [
  {
   "cell_type": "code",
   "execution_count": 1,
   "id": "50fd8e24",
   "metadata": {},
   "outputs": [],
   "source": [
    "import numpy as np \n",
    "from tqdm import tqdm\n",
    "import pandas as pd\n",
    "import random\n",
    "import ast\n",
    "import time"
   ]
  },
  {
   "cell_type": "code",
   "execution_count": 2,
   "id": "33eda17d",
   "metadata": {},
   "outputs": [],
   "source": [
    "df = pd.read_csv(\"train.csv\")"
   ]
  },
  {
   "cell_type": "code",
   "execution_count": 3,
   "id": "2e17c474",
   "metadata": {},
   "outputs": [
    {
     "name": "stderr",
     "output_type": "stream",
     "text": [
      "47340it [00:05, 8794.90it/s] \n"
     ]
    }
   ],
   "source": [
    "data = []\n",
    "for index, row in tqdm(df.iterrows()):\n",
    "    data.append(ast.literal_eval(row['tagged_sentence']))"
   ]
  },
  {
   "cell_type": "code",
   "execution_count": 165,
   "id": "df080bcf",
   "metadata": {},
   "outputs": [],
   "source": [
    "x = []\n",
    "for i in range(len(data)):\n",
    "    for j in range(len(data[i])):\n",
    "        if data[i][j][1] not in x:\n",
    "            x.append(data[i][j][1])"
   ]
  },
  {
   "cell_type": "code",
   "execution_count": 166,
   "id": "eb22368e",
   "metadata": {},
   "outputs": [],
   "source": [
    "count_of_tags = {string: 0 for i, string in enumerate(x)}\n",
    "for i in range(len(data)):\n",
    "    for j in range(len(data[i])):\n",
    "        count_of_tags[data[i][j][1]] += 1"
   ]
  },
  {
   "cell_type": "code",
   "execution_count": 167,
   "id": "d4f3ba7e",
   "metadata": {},
   "outputs": [],
   "source": [
    "row_names = ['start'] + x\n",
    "col_names = x + ['final']\n",
    "some_matrix = [[0 for _ in range(50)] for _ in range(50)]\n",
    "trans_prob_mat = pd.DataFrame(some_matrix, index=row_names, columns=col_names)"
   ]
  },
  {
   "cell_type": "code",
   "execution_count": 168,
   "id": "ef5e696c",
   "metadata": {},
   "outputs": [],
   "source": [
    "for i in range(len(data)):\n",
    "    trans_prob_mat[data[i][0][1]]['start'] += 1\n",
    "for i in range(len(data)):\n",
    "    for j in range(len(data[i])-1):\n",
    "        trans_prob_mat[data[i][j+1][1]][data[i][j][1]] += 1\n",
    "for i in range(len(data)):\n",
    "    trans_prob_mat['final'][data[i][len(data[i])-1][1]] += 1"
   ]
  },
  {
   "cell_type": "code",
   "execution_count": 169,
   "id": "b9b80136",
   "metadata": {
    "scrolled": true
   },
   "outputs": [
    {
     "name": "stderr",
     "output_type": "stream",
     "text": [
      "/var/folders/02/r7s9rg8j7nd6qr8phf1lwd600000gn/T/ipykernel_57294/3170371322.py:3: SettingWithCopyWarning: \n",
      "A value is trying to be set on a copy of a slice from a DataFrame\n",
      "\n",
      "See the caveats in the documentation: https://pandas.pydata.org/pandas-docs/stable/user_guide/indexing.html#returning-a-view-versus-a-copy\n",
      "  trans_prob_mat[x[i]]['start'] = (trans_prob_mat[x[i]]['start']) / (47340)\n",
      "/var/folders/02/r7s9rg8j7nd6qr8phf1lwd600000gn/T/ipykernel_57294/3170371322.py:8: SettingWithCopyWarning: \n",
      "A value is trying to be set on a copy of a slice from a DataFrame\n",
      "\n",
      "See the caveats in the documentation: https://pandas.pydata.org/pandas-docs/stable/user_guide/indexing.html#returning-a-view-versus-a-copy\n",
      "  trans_prob_mat[x[i]][x[j]] = (trans_prob_mat[x[i]][x[j]]) / (count_of_tags[x[j]])#Laplacian smoothing\n",
      "/var/folders/02/r7s9rg8j7nd6qr8phf1lwd600000gn/T/ipykernel_57294/3170371322.py:11: SettingWithCopyWarning: \n",
      "A value is trying to be set on a copy of a slice from a DataFrame\n",
      "\n",
      "See the caveats in the documentation: https://pandas.pydata.org/pandas-docs/stable/user_guide/indexing.html#returning-a-view-versus-a-copy\n",
      "  trans_prob_mat['final'][x[i]] = (trans_prob_mat['final'][x[i]]) /  (count_of_tags[x[i]])\n"
     ]
    }
   ],
   "source": [
    "#Calculation of the Transition Probability Matrix (A)\n",
    "for i in range(49):\n",
    "    trans_prob_mat[x[i]]['start'] = (trans_prob_mat[x[i]]['start']) / (47340)\n",
    "    #trans_prob_mat[x[i]]['final'] = (trans_prob_mat[x[i]]['final'] + 1) / (47340 + 51)\n",
    "\n",
    "for i in range(49):\n",
    "    for j in range(49):\n",
    "        trans_prob_mat[x[i]][x[j]] = (trans_prob_mat[x[i]][x[j]]) / (count_of_tags[x[j]])#Laplacian smoothing\n",
    "        \n",
    "for i in range(49):\n",
    "    trans_prob_mat['final'][x[i]] = (trans_prob_mat['final'][x[i]]) /  (count_of_tags[x[i]])"
   ]
  },
  {
   "cell_type": "code",
   "execution_count": 170,
   "id": "942c2005",
   "metadata": {},
   "outputs": [],
   "source": [
    "arr = np.array(trans_prob_mat)"
   ]
  },
  {
   "cell_type": "code",
   "execution_count": 171,
   "id": "552c82e2",
   "metadata": {},
   "outputs": [],
   "source": [
    "vocab = set()\n",
    "for row in data:\n",
    "    for word in row:\n",
    "        vocab.add(word[0])\n",
    "vocab = list(vocab)"
   ]
  },
  {
   "cell_type": "code",
   "execution_count": 172,
   "id": "d01ac3dc",
   "metadata": {},
   "outputs": [],
   "source": [
    "row_names = x\n",
    "col_names = vocab\n",
    "matrix = [[0 for _ in range(len(vocab))] for _ in range(len(x))]\n",
    "emiss_prob_mat = pd.DataFrame(matrix, index=row_names, columns=col_names)"
   ]
  },
  {
   "cell_type": "code",
   "execution_count": 173,
   "id": "51d33b78",
   "metadata": {},
   "outputs": [],
   "source": [
    "for i in range(len(data)):\n",
    "    for j in range(len(data[i])):\n",
    "        emiss_prob_mat[data[i][j][0]][data[i][j][1]] += 1"
   ]
  },
  {
   "cell_type": "code",
   "execution_count": null,
   "id": "9723f740",
   "metadata": {},
   "outputs": [
    {
     "name": "stderr",
     "output_type": "stream",
     "text": [
      "/var/folders/02/r7s9rg8j7nd6qr8phf1lwd600000gn/T/ipykernel_57294/1682425445.py:5: SettingWithCopyWarning: \n",
      "A value is trying to be set on a copy of a slice from a DataFrame\n",
      "\n",
      "See the caveats in the documentation: https://pandas.pydata.org/pandas-docs/stable/user_guide/indexing.html#returning-a-view-versus-a-copy\n",
      "  emiss_prob_mat[vocab[i]][ele] = (emiss_prob_mat[vocab[i]][ele]) / (count_of_tags[ele])\n"
     ]
    }
   ],
   "source": [
    "for i in range(len(vocab)):\n",
    "    for ele in row_names:\n",
    "        emiss_prob_mat[vocab[i]][ele] = (emiss_prob_mat[vocab[i]][ele]) / (count_of_tags[ele])"
   ]
  },
  {
   "cell_type": "code",
   "execution_count": null,
   "id": "38cd92df",
   "metadata": {},
   "outputs": [],
   "source": [
    "test = pd.read_csv(\"test_small.csv\")"
   ]
  },
  {
   "cell_type": "code",
   "execution_count": null,
   "id": "05636d93",
   "metadata": {},
   "outputs": [],
   "source": [
    "test_data = []\n",
    "for index, row in tqdm(test.iterrows()):\n",
    "    test_data.append(ast.literal_eval(row['untagged_sentence']))"
   ]
  },
  {
   "cell_type": "code",
   "execution_count": null,
   "id": "45b2d356",
   "metadata": {},
   "outputs": [],
   "source": [
    "y = x\n",
    "x = [\"start\"] + x + [\"final\"]\n",
    "vocab = set(vocab)"
   ]
  },
  {
   "cell_type": "code",
   "execution_count": null,
   "id": "b6d2623d",
   "metadata": {},
   "outputs": [],
   "source": [
    "cnt = 0\n",
    "all_tags = [ele for ele in y]\n",
    "values = [0] * len(all_tags) \n",
    "pos_tags_dict = {tag: value for tag, value in zip(all_tags, values)}\n",
    "for i in range(len(data)):\n",
    "    for j in range(len(data[i])):\n",
    "            pos_tags_dict[data[i][j][1]] += 1\n",
    "            cnt += 1\n",
    "for tag in pos_tags_dict:\n",
    "    pos_tags_dict[tag] /= cnt\n",
    "    pos_tags_dict[tag] *= 100\n",
    "    \n",
    "choices = []\n",
    "for tag in pos_tags_dict:\n",
    "    for i in range(int(pos_tags_dict[tag])):\n",
    "        choices.append(tag)"
   ]
  },
  {
   "cell_type": "code",
   "execution_count": null,
   "id": "8b992699",
   "metadata": {},
   "outputs": [],
   "source": [
    "all_tags = [ele for ele in y]\n",
    "values = [i for i in range(49)]\n",
    "tags_to_index = {tag: value for tag , value in zip(all_tags,values)}"
   ]
  },
  {
   "cell_type": "code",
   "execution_count": 158,
   "id": "42b3f7da",
   "metadata": {},
   "outputs": [],
   "source": [
    "#Actual Viterbi\n",
    "all_predictions = []\n",
    "for i in range(len(test_data)):\n",
    "    path_prob_mat = [[0 for _ in range(len(test_data[i])+1)] for _ in range(50)]\n",
    "    backpointer = [[0 for _ in range(len(test_data[i])+1)] for _ in range(50)]\n",
    "    if test_data[i][0] not in vocab:\n",
    "            path_prob_mat[1][0] = 1\n",
    "            #backpointer[1][0] = 1\n",
    "    else:\n",
    "        for j in range(49):\n",
    "            path_prob_mat[j][0] = trans_prob_mat[y[j]]['start'] * emiss_prob_mat[test_data[i][0]][y[j]]\n",
    "\n",
    "    for k in range(1,len(test_data[i])):\n",
    "        if test_data[i][k] not in vocab:\n",
    "            path_prob_mat[1][k] = 1\n",
    "            backpointer[1][k] = 1\n",
    "            continue\n",
    "            \n",
    "        for j in range(49):\n",
    "            temp1 = []\n",
    "            temp2 = []\n",
    "            for l in range(49):\n",
    "                temp = path_prob_mat[l][k-1] * trans_prob_mat[y[j]][y[l]]\n",
    "                temp1.append(temp * emiss_prob_mat[test_data[i][k]][y[j]])\n",
    "                temp2.append(temp)\n",
    "            path_prob_mat[j][k] = np.max(np.array(temp1))\n",
    "            backpointer[j][k] = np.argmax(np.array(temp2))\n",
    "            \n",
    "    temp = []\n",
    "    for j in range(49):\n",
    "        temp.append(path_prob_mat[j][len(test_data[i])-1] * trans_prob_mat['final'][y[j]])\n",
    "    path_prob_mat[49][len(test_data[i])] = np.max(np.array(temp))\n",
    "    backpointer[49][len(test_data[i])] = np.argmax(np.array(temp))\n",
    "    \n",
    "    preds = []\n",
    "    temp = backpointer[49][len(test_data[i])]\n",
    "    preds.append(y[temp])\n",
    "    for j in range(len(test_data[i])-1,0,-1):\n",
    "        preds.append(y[backpointer[temp][j]])\n",
    "        temp = backpointer[temp][j]\n",
    "    preds.reverse()\n",
    "    all_predictions.append(preds)"
   ]
  },
  {
   "cell_type": "code",
   "execution_count": 159,
   "id": "74a3980f",
   "metadata": {},
   "outputs": [],
   "source": [
    "my_list = []\n",
    "for i in range(len(all_predictions)):\n",
    "    my_listt = []\n",
    "    for j in range(len(all_predictions[i])):\n",
    "        my_listt.append(tuple([test_data[i][j] , all_predictions[i][j]]))\n",
    "    my_list.append(my_listt)"
   ]
  },
  {
   "cell_type": "code",
   "execution_count": 160,
   "id": "4e68d573",
   "metadata": {},
   "outputs": [
    {
     "data": {
      "text/html": [
       "<div>\n",
       "<style scoped>\n",
       "    .dataframe tbody tr th:only-of-type {\n",
       "        vertical-align: middle;\n",
       "    }\n",
       "\n",
       "    .dataframe tbody tr th {\n",
       "        vertical-align: top;\n",
       "    }\n",
       "\n",
       "    .dataframe thead th {\n",
       "        text-align: right;\n",
       "    }\n",
       "</style>\n",
       "<table border=\"1\" class=\"dataframe\">\n",
       "  <thead>\n",
       "    <tr style=\"text-align: right;\">\n",
       "      <th></th>\n",
       "      <th>id</th>\n",
       "      <th>tagged_sentence</th>\n",
       "    </tr>\n",
       "  </thead>\n",
       "  <tbody>\n",
       "    <tr>\n",
       "      <th>0</th>\n",
       "      <td>3</td>\n",
       "      <td>[(For, CS), (you, PP), (have, HV), (been, BE),...</td>\n",
       "    </tr>\n",
       "    <tr>\n",
       "      <th>1</th>\n",
       "      <td>4</td>\n",
       "      <td>[(Man, NN), (had, HV), (enough, AP), (to, TO),...</td>\n",
       "    </tr>\n",
       "    <tr>\n",
       "      <th>2</th>\n",
       "      <td>6</td>\n",
       "      <td>[(He, PP), (trudged, VB), (on, RP), (,, ,), (h...</td>\n",
       "    </tr>\n",
       "    <tr>\n",
       "      <th>3</th>\n",
       "      <td>12</td>\n",
       "      <td>[(``, ``), (But, CC), (I, PP), (believe, VB), ...</td>\n",
       "    </tr>\n",
       "    <tr>\n",
       "      <th>4</th>\n",
       "      <td>15</td>\n",
       "      <td>[(then, RB), (,, ,), (to, IN), (better, JJ), (...</td>\n",
       "    </tr>\n",
       "    <tr>\n",
       "      <th>...</th>\n",
       "      <td>...</td>\n",
       "      <td>...</td>\n",
       "    </tr>\n",
       "    <tr>\n",
       "      <th>3995</th>\n",
       "      <td>9990</td>\n",
       "      <td>[(The, AT), (way, NN), (MacArthur, NN), (said,...</td>\n",
       "    </tr>\n",
       "    <tr>\n",
       "      <th>3996</th>\n",
       "      <td>9991</td>\n",
       "      <td>[(urged, VB), (the, NN), (reconvention, NN), (...</td>\n",
       "    </tr>\n",
       "    <tr>\n",
       "      <th>3997</th>\n",
       "      <td>9994</td>\n",
       "      <td>[(A, AT), (prospective, JJ), (industry, NN), (...</td>\n",
       "    </tr>\n",
       "    <tr>\n",
       "      <th>3998</th>\n",
       "      <td>9997</td>\n",
       "      <td>[(Mr., NN), (McCormack, NN), (., .)]</td>\n",
       "    </tr>\n",
       "    <tr>\n",
       "      <th>3999</th>\n",
       "      <td>9998</td>\n",
       "      <td>[(To, TO), (encourage, VB), (exploration, NN),...</td>\n",
       "    </tr>\n",
       "  </tbody>\n",
       "</table>\n",
       "<p>4000 rows × 2 columns</p>\n",
       "</div>"
      ],
      "text/plain": [
       "        id                                    tagged_sentence\n",
       "0        3  [(For, CS), (you, PP), (have, HV), (been, BE),...\n",
       "1        4  [(Man, NN), (had, HV), (enough, AP), (to, TO),...\n",
       "2        6  [(He, PP), (trudged, VB), (on, RP), (,, ,), (h...\n",
       "3       12  [(``, ``), (But, CC), (I, PP), (believe, VB), ...\n",
       "4       15  [(then, RB), (,, ,), (to, IN), (better, JJ), (...\n",
       "...    ...                                                ...\n",
       "3995  9990  [(The, AT), (way, NN), (MacArthur, NN), (said,...\n",
       "3996  9991  [(urged, VB), (the, NN), (reconvention, NN), (...\n",
       "3997  9994  [(A, AT), (prospective, JJ), (industry, NN), (...\n",
       "3998  9997               [(Mr., NN), (McCormack, NN), (., .)]\n",
       "3999  9998  [(To, TO), (encourage, VB), (exploration, NN),...\n",
       "\n",
       "[4000 rows x 2 columns]"
      ]
     },
     "execution_count": 160,
     "metadata": {},
     "output_type": "execute_result"
    }
   ],
   "source": [
    "predictions = pd.DataFrame(columns = [\"id\" , \"tagged_sentence\"])\n",
    "predictions['id'] = test['id']\n",
    "predictions['tagged_sentence'] = my_list\n",
    "predictions"
   ]
  },
  {
   "cell_type": "code",
   "execution_count": 161,
   "id": "64f8e32b",
   "metadata": {},
   "outputs": [],
   "source": [
    "predictions.to_csv(\"submission_8.csv\" , index = False)"
   ]
  },
  {
   "cell_type": "code",
   "execution_count": null,
   "id": "c2428571",
   "metadata": {},
   "outputs": [],
   "source": []
  }
 ],
 "metadata": {
  "kernelspec": {
   "display_name": "Python 3 (ipykernel)",
   "language": "python",
   "name": "python3"
  },
  "language_info": {
   "codemirror_mode": {
    "name": "ipython",
    "version": 3
   },
   "file_extension": ".py",
   "mimetype": "text/x-python",
   "name": "python",
   "nbconvert_exporter": "python",
   "pygments_lexer": "ipython3",
   "version": "3.10.9"
  }
 },
 "nbformat": 4,
 "nbformat_minor": 5
}
