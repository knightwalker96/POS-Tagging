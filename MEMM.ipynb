{
 "cells": [
  {
   "cell_type": "code",
   "execution_count": 21,
   "id": "50fd8e24",
   "metadata": {},
   "outputs": [],
   "source": [
    "import numpy as np \n",
    "from tqdm import tqdm\n",
    "import pandas as pd\n",
    "import random\n",
    "import ast\n",
    "import time"
   ]
  },
  {
   "cell_type": "code",
   "execution_count": 22,
   "id": "33eda17d",
   "metadata": {},
   "outputs": [
    {
     "data": {
      "text/html": [
       "<div>\n",
       "<style scoped>\n",
       "    .dataframe tbody tr th:only-of-type {\n",
       "        vertical-align: middle;\n",
       "    }\n",
       "\n",
       "    .dataframe tbody tr th {\n",
       "        vertical-align: top;\n",
       "    }\n",
       "\n",
       "    .dataframe thead th {\n",
       "        text-align: right;\n",
       "    }\n",
       "</style>\n",
       "<table border=\"1\" class=\"dataframe\">\n",
       "  <thead>\n",
       "    <tr style=\"text-align: right;\">\n",
       "      <th></th>\n",
       "      <th>untagged_sentence</th>\n",
       "      <th>tagged_sentence</th>\n",
       "    </tr>\n",
       "  </thead>\n",
       "  <tbody>\n",
       "    <tr>\n",
       "      <th>0</th>\n",
       "      <td>['The', 'jury', 'further', 'said', 'in', 'term...</td>\n",
       "      <td>[('The', 'AT'), ('jury', 'NN'), ('further', 'R...</td>\n",
       "    </tr>\n",
       "    <tr>\n",
       "      <th>1</th>\n",
       "      <td>['The', 'September-October', 'term', 'jury', '...</td>\n",
       "      <td>[('The', 'AT'), ('September-October', 'NP'), (...</td>\n",
       "    </tr>\n",
       "    <tr>\n",
       "      <th>2</th>\n",
       "      <td>['``', 'Only', 'a', 'relative', 'handful', 'of...</td>\n",
       "      <td>[('``', '``'), ('Only', 'RB'), ('a', 'AT'), ('...</td>\n",
       "    </tr>\n",
       "    <tr>\n",
       "      <th>3</th>\n",
       "      <td>['The', 'jury', 'said', 'it', 'did', 'find', '...</td>\n",
       "      <td>[('The', 'AT'), ('jury', 'NN'), ('said', 'VB')...</td>\n",
       "    </tr>\n",
       "    <tr>\n",
       "      <th>4</th>\n",
       "      <td>['It', 'recommended', 'that', 'Fulton', 'legis...</td>\n",
       "      <td>[('It', 'PP'), ('recommended', 'VB'), ('that',...</td>\n",
       "    </tr>\n",
       "    <tr>\n",
       "      <th>...</th>\n",
       "      <td>...</td>\n",
       "      <td>...</td>\n",
       "    </tr>\n",
       "    <tr>\n",
       "      <th>47335</th>\n",
       "      <td>['S.', 'J.', 'Perelman']</td>\n",
       "      <td>[('S.', 'NP'), ('J.', 'NP'), ('Perelman', 'NP')]</td>\n",
       "    </tr>\n",
       "    <tr>\n",
       "      <th>47336</th>\n",
       "      <td>['revulsion', 'in', 'the', 'desert']</td>\n",
       "      <td>[('revulsion', 'NN'), ('in', 'IN'), ('the', 'A...</td>\n",
       "    </tr>\n",
       "    <tr>\n",
       "      <th>47337</th>\n",
       "      <td>['the', 'doors', 'of', 'the', 'D', 'train', 's...</td>\n",
       "      <td>[('the', 'AT'), ('doors', 'NN'), ('of', 'IN'),...</td>\n",
       "    </tr>\n",
       "    <tr>\n",
       "      <th>47338</th>\n",
       "      <td>['She', 'was', 'a', 'living', 'doll', 'and', '...</td>\n",
       "      <td>[('She', 'PP'), ('was', 'BE'), ('a', 'AT'), ('...</td>\n",
       "    </tr>\n",
       "    <tr>\n",
       "      <th>47339</th>\n",
       "      <td>['From', 'what', 'I', 'was', 'able', 'to', 'ga...</td>\n",
       "      <td>[('From', 'IN'), ('what', 'WD'), ('I', 'PP'), ...</td>\n",
       "    </tr>\n",
       "  </tbody>\n",
       "</table>\n",
       "<p>47340 rows × 2 columns</p>\n",
       "</div>"
      ],
      "text/plain": [
       "                                       untagged_sentence  \\\n",
       "0      ['The', 'jury', 'further', 'said', 'in', 'term...   \n",
       "1      ['The', 'September-October', 'term', 'jury', '...   \n",
       "2      ['``', 'Only', 'a', 'relative', 'handful', 'of...   \n",
       "3      ['The', 'jury', 'said', 'it', 'did', 'find', '...   \n",
       "4      ['It', 'recommended', 'that', 'Fulton', 'legis...   \n",
       "...                                                  ...   \n",
       "47335                           ['S.', 'J.', 'Perelman']   \n",
       "47336               ['revulsion', 'in', 'the', 'desert']   \n",
       "47337  ['the', 'doors', 'of', 'the', 'D', 'train', 's...   \n",
       "47338  ['She', 'was', 'a', 'living', 'doll', 'and', '...   \n",
       "47339  ['From', 'what', 'I', 'was', 'able', 'to', 'ga...   \n",
       "\n",
       "                                         tagged_sentence  \n",
       "0      [('The', 'AT'), ('jury', 'NN'), ('further', 'R...  \n",
       "1      [('The', 'AT'), ('September-October', 'NP'), (...  \n",
       "2      [('``', '``'), ('Only', 'RB'), ('a', 'AT'), ('...  \n",
       "3      [('The', 'AT'), ('jury', 'NN'), ('said', 'VB')...  \n",
       "4      [('It', 'PP'), ('recommended', 'VB'), ('that',...  \n",
       "...                                                  ...  \n",
       "47335   [('S.', 'NP'), ('J.', 'NP'), ('Perelman', 'NP')]  \n",
       "47336  [('revulsion', 'NN'), ('in', 'IN'), ('the', 'A...  \n",
       "47337  [('the', 'AT'), ('doors', 'NN'), ('of', 'IN'),...  \n",
       "47338  [('She', 'PP'), ('was', 'BE'), ('a', 'AT'), ('...  \n",
       "47339  [('From', 'IN'), ('what', 'WD'), ('I', 'PP'), ...  \n",
       "\n",
       "[47340 rows x 2 columns]"
      ]
     },
     "execution_count": 22,
     "metadata": {},
     "output_type": "execute_result"
    }
   ],
   "source": [
    "df = pd.read_csv(\"train.csv\")\n",
    "df"
   ]
  },
  {
   "cell_type": "code",
   "execution_count": 23,
   "id": "2e17c474",
   "metadata": {},
   "outputs": [
    {
     "name": "stderr",
     "output_type": "stream",
     "text": [
      "47340it [00:05, 8146.16it/s] \n"
     ]
    }
   ],
   "source": [
    "data = []\n",
    "for index, row in tqdm(df.iterrows()):\n",
    "    data.append(ast.literal_eval(row['tagged_sentence']))"
   ]
  },
  {
   "cell_type": "code",
   "execution_count": 136,
   "id": "df080bcf",
   "metadata": {},
   "outputs": [
    {
     "name": "stdout",
     "output_type": "stream",
     "text": [
      "49\n"
     ]
    }
   ],
   "source": [
    "x = []\n",
    "for i in range(len(data)):\n",
    "    for j in range(len(data[i])):\n",
    "        if data[i][j][1] not in x:\n",
    "            x.append(data[i][j][1])\n",
    "print(len(x))"
   ]
  },
  {
   "cell_type": "code",
   "execution_count": 137,
   "id": "eb22368e",
   "metadata": {},
   "outputs": [],
   "source": [
    "count_of_tags = {string: 0 for i, string in enumerate(x)}\n",
    "for i in range(len(data)):\n",
    "    for j in range(len(data[i])):\n",
    "        count_of_tags[data[i][j][1]] += 1"
   ]
  },
  {
   "cell_type": "code",
   "execution_count": 159,
   "id": "9408ac77",
   "metadata": {},
   "outputs": [
    {
     "name": "stdout",
     "output_type": "stream",
     "text": [
      "51208\n"
     ]
    }
   ],
   "source": [
    "vocab = set()\n",
    "for row in data:\n",
    "    for word in row:\n",
    "        vocab.add(word[0])\n",
    "vocab = list(vocab)\n",
    "print(len(vocab))\n",
    " \n",
    "keys = [i for i in range(len(vocab))]\n",
    "vocab_dict = dict(zip(vocab , keys))"
   ]
  },
  {
   "cell_type": "code",
   "execution_count": 139,
   "id": "4ca0c965",
   "metadata": {},
   "outputs": [],
   "source": [
    "all_tags = [ele for ele in x]\n",
    "values = [i for i in range(49)]\n",
    "tags_to_index = {tag: value for tag , value in zip(all_tags,values)}"
   ]
  },
  {
   "cell_type": "code",
   "execution_count": 141,
   "id": "25e18f8e",
   "metadata": {},
   "outputs": [],
   "source": [
    "x_dim , y_dim = len(vocab) , 50\n",
    "data_type = np.float32\n",
    "bigrams = np.zeros((x_dim, y_dim), dtype=data_type)"
   ]
  },
  {
   "cell_type": "code",
   "execution_count": 143,
   "id": "b64551ae",
   "metadata": {},
   "outputs": [],
   "source": [
    "x_dim, y_dim, z_dim = len(vocab), 50, 50\n",
    "data_type = np.float32\n",
    "trigrams = np.zeros((x_dim, y_dim, z_dim), dtype=data_type) "
   ]
  },
  {
   "cell_type": "code",
   "execution_count": 144,
   "id": "f3bc49fc",
   "metadata": {},
   "outputs": [],
   "source": [
    "for i in range(len(data)):\n",
    "    for j in range(len(data[i])):\n",
    "        if j ==0:\n",
    "            bigrams[vocab_dict[data[i][j][0]]][0] += 1\n",
    "        else:\n",
    "            bigrams[vocab_dict[data[i][j][0]]][tags_to_index[data[i][j][1]]] += 1"
   ]
  },
  {
   "cell_type": "code",
   "execution_count": 145,
   "id": "3155b064",
   "metadata": {},
   "outputs": [],
   "source": [
    "#trigram_count = [[[0 for _ in range(49)] for _ in range(49)] for _ in range(len(vocab))]\n",
    "for i in range(len(data)):\n",
    "    for j in range(len(data[i])):\n",
    "        if j == 0:\n",
    "            trigrams[vocab_dict[data[i][j][0]]][tags_to_index[data[i][j][1]]][0] += 1\n",
    "        elif j == len(data[i])-1:\n",
    "            trigrams[vocab_dict[data[i][j][0]]][49][tags_to_index[data[i][j][1]]] += 1\n",
    "        else:\n",
    "             trigrams[vocab_dict[data[i][j][0]]][tags_to_index[data[i][j][1]]][tags_to_index[data[i][j-1][1]]] += 1"
   ]
  },
  {
   "cell_type": "code",
   "execution_count": 146,
   "id": "d4f3ba7e",
   "metadata": {},
   "outputs": [],
   "source": [
    "matrix = np.zeros((x_dim, y_dim, z_dim)) "
   ]
  },
  {
   "cell_type": "code",
   "execution_count": 151,
   "id": "552c82e2",
   "metadata": {},
   "outputs": [],
   "source": [
    "for i in range(len(data)):\n",
    "    for j in range(len(data[i])):\n",
    "        curr_word = vocab_dict[data[i][j][0]]\n",
    "        curr_tag = tags_to_index[data[i][j][1]]\n",
    "        prev_tag = tags_to_index[data[i][j-1][1]]\n",
    "        if j==0:\n",
    "            prev_tag = 0\n",
    "        if j == len(data[i]) - 1:\n",
    "            curr_tag = 49\n",
    "            prev_tag = tags_to_index[data[i][j][1]]\n",
    "        matrix[curr_word][curr_tag][prev_tag] = (trigrams[curr_word][curr_tag][prev_tag] + 1) / (bigrams[curr_word][prev_tag] + len(vocab))"
   ]
  },
  {
   "cell_type": "code",
   "execution_count": 106,
   "id": "38cd92df",
   "metadata": {},
   "outputs": [
    {
     "data": {
      "text/html": [
       "<div>\n",
       "<style scoped>\n",
       "    .dataframe tbody tr th:only-of-type {\n",
       "        vertical-align: middle;\n",
       "    }\n",
       "\n",
       "    .dataframe tbody tr th {\n",
       "        vertical-align: top;\n",
       "    }\n",
       "\n",
       "    .dataframe thead th {\n",
       "        text-align: right;\n",
       "    }\n",
       "</style>\n",
       "<table border=\"1\" class=\"dataframe\">\n",
       "  <thead>\n",
       "    <tr style=\"text-align: right;\">\n",
       "      <th></th>\n",
       "      <th>Unnamed: 0</th>\n",
       "      <th>id</th>\n",
       "      <th>untagged_sentence</th>\n",
       "    </tr>\n",
       "  </thead>\n",
       "  <tbody>\n",
       "    <tr>\n",
       "      <th>0</th>\n",
       "      <td>3</td>\n",
       "      <td>3</td>\n",
       "      <td>['For', 'you', 'have', 'been', 'reborn', ',', ...</td>\n",
       "    </tr>\n",
       "    <tr>\n",
       "      <th>1</th>\n",
       "      <td>4</td>\n",
       "      <td>4</td>\n",
       "      <td>['Man', 'had', 'enough', 'to', 'worry', 'about...</td>\n",
       "    </tr>\n",
       "    <tr>\n",
       "      <th>2</th>\n",
       "      <td>6</td>\n",
       "      <td>6</td>\n",
       "      <td>['He', 'trudged', 'on', ',', 'his', 'aching', ...</td>\n",
       "    </tr>\n",
       "    <tr>\n",
       "      <th>3</th>\n",
       "      <td>12</td>\n",
       "      <td>12</td>\n",
       "      <td>['``', 'But', 'I', 'believe', 'if', 'people', ...</td>\n",
       "    </tr>\n",
       "    <tr>\n",
       "      <th>4</th>\n",
       "      <td>15</td>\n",
       "      <td>15</td>\n",
       "      <td>['then', ',', 'to', 'better', 'purpose', ',', ...</td>\n",
       "    </tr>\n",
       "    <tr>\n",
       "      <th>...</th>\n",
       "      <td>...</td>\n",
       "      <td>...</td>\n",
       "      <td>...</td>\n",
       "    </tr>\n",
       "    <tr>\n",
       "      <th>3995</th>\n",
       "      <td>9990</td>\n",
       "      <td>9990</td>\n",
       "      <td>['The', 'way', 'MacArthur', 'said', 'his', 'li...</td>\n",
       "    </tr>\n",
       "    <tr>\n",
       "      <th>3996</th>\n",
       "      <td>9991</td>\n",
       "      <td>9991</td>\n",
       "      <td>['urged', 'the', 'reconvention', 'of', 'the', ...</td>\n",
       "    </tr>\n",
       "    <tr>\n",
       "      <th>3997</th>\n",
       "      <td>9994</td>\n",
       "      <td>9994</td>\n",
       "      <td>['A', 'prospective', 'industry', 'also', 'may'...</td>\n",
       "    </tr>\n",
       "    <tr>\n",
       "      <th>3998</th>\n",
       "      <td>9997</td>\n",
       "      <td>9997</td>\n",
       "      <td>['Mr.', 'McCormack', '.']</td>\n",
       "    </tr>\n",
       "    <tr>\n",
       "      <th>3999</th>\n",
       "      <td>9998</td>\n",
       "      <td>9998</td>\n",
       "      <td>['To', 'encourage', 'exploration', 'for', 'dom...</td>\n",
       "    </tr>\n",
       "  </tbody>\n",
       "</table>\n",
       "<p>4000 rows × 3 columns</p>\n",
       "</div>"
      ],
      "text/plain": [
       "      Unnamed: 0    id                                  untagged_sentence\n",
       "0              3     3  ['For', 'you', 'have', 'been', 'reborn', ',', ...\n",
       "1              4     4  ['Man', 'had', 'enough', 'to', 'worry', 'about...\n",
       "2              6     6  ['He', 'trudged', 'on', ',', 'his', 'aching', ...\n",
       "3             12    12  ['``', 'But', 'I', 'believe', 'if', 'people', ...\n",
       "4             15    15  ['then', ',', 'to', 'better', 'purpose', ',', ...\n",
       "...          ...   ...                                                ...\n",
       "3995        9990  9990  ['The', 'way', 'MacArthur', 'said', 'his', 'li...\n",
       "3996        9991  9991  ['urged', 'the', 'reconvention', 'of', 'the', ...\n",
       "3997        9994  9994  ['A', 'prospective', 'industry', 'also', 'may'...\n",
       "3998        9997  9997                          ['Mr.', 'McCormack', '.']\n",
       "3999        9998  9998  ['To', 'encourage', 'exploration', 'for', 'dom...\n",
       "\n",
       "[4000 rows x 3 columns]"
      ]
     },
     "execution_count": 106,
     "metadata": {},
     "output_type": "execute_result"
    }
   ],
   "source": [
    "test = pd.read_csv(\"test_small.csv\")\n",
    "test"
   ]
  },
  {
   "cell_type": "code",
   "execution_count": 107,
   "id": "05636d93",
   "metadata": {},
   "outputs": [
    {
     "name": "stderr",
     "output_type": "stream",
     "text": [
      "4000it [00:00, 15776.10it/s]\n"
     ]
    }
   ],
   "source": [
    "test_data = []\n",
    "for index, row in tqdm(test.iterrows()):\n",
    "    test_data.append(ast.literal_eval(row['untagged_sentence']))"
   ]
  },
  {
   "cell_type": "code",
   "execution_count": 157,
   "id": "45b2d356",
   "metadata": {},
   "outputs": [],
   "source": [
    "y = x\n",
    "#x = [\"start\"] + x + [\"end\"]\n",
    "vocab = set(vocab)"
   ]
  },
  {
   "cell_type": "code",
   "execution_count": 207,
   "id": "636aeb8a",
   "metadata": {},
   "outputs": [
    {
     "name": "stdout",
     "output_type": "stream",
     "text": [
      "Execution done\n"
     ]
    }
   ],
   "source": [
    "#Actual MEMM\n",
    "all_predictions = []\n",
    "for i in range(len(test_data)):\n",
    "    memm = [[0 for _ in range(len(test_data[i])+1)] for _ in range(50)]\n",
    "    backpointer = [[0 for _ in range(len(test_data[i])+1)] for _ in range(50)]\n",
    "    if test_data[i][0] not in vocab:\n",
    "            memm[1][0] = 1\n",
    "            #backpointer[1][0] = 1\n",
    "    else:\n",
    "        for j in range(49):\n",
    "            #memm[j][0] = trans_prob_mat[y[j]]['start'] * emiss_prob_mat[data[i][0][0]][y[j]]\n",
    "            curr_word = vocab_dict[test_data[i][0]]\n",
    "            curr_tag = tags_to_index[x[j]]\n",
    "            prev_tag = 0\n",
    "            memm[j][0] = matrix[curr_word][curr_tag][prev_tag]\n",
    "\n",
    "    for k in range(1,len(test_data[i])):\n",
    "        if test_data[i][k] not in vocab:\n",
    "            memm[1][k] = 1\n",
    "            backpointer[1][k] = 1\n",
    "            continue\n",
    "            \n",
    "        for j in range(49):\n",
    "            temp1 = []\n",
    "            for l in range(49):\n",
    "                #temp = path_prob_mat[l][k-1] * trans_prob_mat[y[j]][y[l]]\n",
    "                curr_word = vocab_dict[test_data[i][k]]\n",
    "                curr_tag = tags_to_index[x[j]]\n",
    "                prev_tag = tags_to_index[x[l]]\n",
    "                temp = memm[l][k-1] * matrix[curr_word][curr_tag][prev_tag]\n",
    "                temp1.append(temp)\n",
    "            memm[j][k] = np.max(np.array(temp1))\n",
    "            backpointer[j][k] = np.argmax(np.array(temp1))\n",
    "            \n",
    "    temp = []\n",
    "    flg = True\n",
    "    for j in range(49):\n",
    "        if test_data[i][len(test_data[i])-1] not in vocab:\n",
    "            flg = False\n",
    "            break\n",
    "            \n",
    "        #temp.append(path_prob_mat[j][len(data[i])-1] * trans_prob_mat['final'][y[j]])\n",
    "        curr_word = vocab_dict[test_data[i][len(test_data[i])-1]]\n",
    "        curr_tag = 49\n",
    "        prev_tag = tags_to_index[x[j]]\n",
    "        temp.append(memm[j][len(test_data[i])-1] * matrix[curr_word][curr_tag][prev_tag])\n",
    "    \n",
    "    if flg:\n",
    "        memm[49][len(test_data[i])] = np.max(np.array(temp))\n",
    "        backpointer[49][len(test_data[i])] = np.argmax(np.array(temp))\n",
    "    else:\n",
    "        memm[49][len(test_data[i])] = 1 #because i wanna assign probability 1 for \"NN\"\n",
    "        backpointer[49][len(test_data[i])] = 1 #because the index for \"NN\" is 1\n",
    "    \n",
    "    preds = []\n",
    "    temp = backpointer[49][len(test_data[i])]\n",
    "    preds.append(x[temp])\n",
    "    for j in range(len(test_data[i])-1,0,-1):\n",
    "        preds.append(x[backpointer[temp][j]])\n",
    "        temp = backpointer[temp][j]\n",
    "    preds.reverse()\n",
    "    all_predictions.append(preds)\n",
    "print(\"Execution done\")"
   ]
  },
  {
   "cell_type": "code",
   "execution_count": 204,
   "id": "61eb1dde",
   "metadata": {},
   "outputs": [],
   "source": [
    "#Actual MEMM testing\n",
    "all_predictions = []\n",
    "for i in range(7,8):\n",
    "    memm = [[0 for _ in range(len(data[i])+1)] for _ in range(50)]\n",
    "    backpointer = [[0 for _ in range(len(data[i])+1)] for _ in range(50)]\n",
    "    if data[i][0][0] not in vocab:\n",
    "            memm[1][0] = 1\n",
    "            #backpointer[1][0] = 1\n",
    "    else:\n",
    "        for j in range(49):\n",
    "            #memm[j][0] = trans_prob_mat[y[j]]['start'] * emiss_prob_mat[data[i][0][0]][y[j]]\n",
    "            curr_word = vocab_dict[data[i][0][0]]\n",
    "            curr_tag = tags_to_index[data[i][0][1]]\n",
    "            prev_tag = 0\n",
    "            memm[j][0] = matrix[curr_word][curr_tag][prev_tag]\n",
    "\n",
    "    for k in range(1,len(data[i])):\n",
    "        if data[i][k][0] not in vocab:\n",
    "            path_prob_mat[1][k] = 1\n",
    "            backpointer[1][k] = 1\n",
    "            continue\n",
    "            \n",
    "        for j in range(49):\n",
    "            temp1 = []\n",
    "            for l in range(49):\n",
    "                #temp = path_prob_mat[l][k-1] * trans_prob_mat[y[j]][y[l]]\n",
    "                curr_word = vocab_dict[data[i][k][0]]\n",
    "                curr_tag = tags_to_index[data[i][k][1]]\n",
    "                prev_tag = tags_to_index[x[l]]\n",
    "                temp = memm[l][k-1] * matrix[curr_word][curr_tag][prev_tag]\n",
    "                temp1.append(temp)\n",
    "            memm[j][k] = np.max(np.array(temp1))\n",
    "            backpointer[j][k] = np.argmax(np.array(temp1))\n",
    "            \n",
    "    temp = []\n",
    "    for j in range(49):\n",
    "        #temp.append(path_prob_mat[j][len(data[i])-1] * trans_prob_mat['final'][y[j]])\n",
    "        curr_word = vocab_dict[data[i][len(data[i])-1][0]]\n",
    "        curr_tag = 49\n",
    "        prev_tag = tags_to_index[x[j]]\n",
    "        temp.append(memm[j][len(data[i])-1] * matrix[curr_word][curr_tag][prev_tag])\n",
    "    memm[49][len(data[i])] = np.max(np.array(temp))\n",
    "    backpointer[49][len(data[i])] = np.argmax(np.array(temp))\n",
    "    \n",
    "    preds = []\n",
    "    temp = backpointer[49][len(data[i])]\n",
    "    preds.append(x[temp])\n",
    "    for j in range(len(data[i])-1,0,-1):\n",
    "        preds.append(x[backpointer[temp][j]])\n",
    "        temp = backpointer[temp][j]\n",
    "    preds.reverse()\n",
    "    all_predictions.append(preds)"
   ]
  },
  {
   "cell_type": "code",
   "execution_count": 205,
   "id": "7204a098",
   "metadata": {},
   "outputs": [
    {
     "name": "stdout",
     "output_type": "stream",
     "text": [
      "('However', 'WR')\n",
      "NN\n",
      "(',', ',')\n",
      "IN\n",
      "('jury', 'NN')\n",
      "PP\n",
      "('it', 'PP')\n",
      "NP\n",
      "('believes', 'VB')\n",
      "AT\n",
      "('``', '``')\n",
      "IN\n",
      "('these', 'DT')\n",
      "IN\n",
      "('two', 'CD')\n",
      "JJ\n",
      "('be', 'BE')\n",
      "AT\n",
      "('achieve', 'VB')\n",
      "AT\n",
      "('and', 'CC')\n",
      "TO\n",
      "('reduce', 'VB')\n",
      "IN\n",
      "('of', 'IN')\n",
      "AT\n",
      "(\"''\", \"''\")\n",
      "AT\n",
      "('.', '.')\n",
      "AT\n"
     ]
    },
    {
     "data": {
      "text/plain": [
       "15"
      ]
     },
     "execution_count": 205,
     "metadata": {},
     "output_type": "execute_result"
    }
   ],
   "source": [
    "k = 7\n",
    "cunt = 0\n",
    "als = []\n",
    "for i in range(len(data[k])):\n",
    "    if preds[i] != data[k][i][1]:\n",
    "        cunt = cunt + 1\n",
    "        als.append(i)\n",
    "for i in range(len(als)):\n",
    "    print(data[k][als[i]])\n",
    "    print(preds[als[i]])\n",
    "cunt"
   ]
  },
  {
   "cell_type": "code",
   "execution_count": 208,
   "id": "74a3980f",
   "metadata": {},
   "outputs": [],
   "source": [
    "my_list = []\n",
    "for i in range(len(all_predictions)):\n",
    "    my_listt = []\n",
    "    for j in range(len(all_predictions[i])):\n",
    "        my_listt.append(tuple([test_data[i][j] , all_predictions[i][j]]))\n",
    "    my_list.append(my_listt)"
   ]
  },
  {
   "cell_type": "code",
   "execution_count": 209,
   "id": "4e68d573",
   "metadata": {},
   "outputs": [
    {
     "data": {
      "text/html": [
       "<div>\n",
       "<style scoped>\n",
       "    .dataframe tbody tr th:only-of-type {\n",
       "        vertical-align: middle;\n",
       "    }\n",
       "\n",
       "    .dataframe tbody tr th {\n",
       "        vertical-align: top;\n",
       "    }\n",
       "\n",
       "    .dataframe thead th {\n",
       "        text-align: right;\n",
       "    }\n",
       "</style>\n",
       "<table border=\"1\" class=\"dataframe\">\n",
       "  <thead>\n",
       "    <tr style=\"text-align: right;\">\n",
       "      <th></th>\n",
       "      <th>id</th>\n",
       "      <th>tagged_sentence</th>\n",
       "    </tr>\n",
       "  </thead>\n",
       "  <tbody>\n",
       "    <tr>\n",
       "      <th>0</th>\n",
       "      <td>3</td>\n",
       "      <td>[(For, AT), (you, AT), (have, AT), (been, AT),...</td>\n",
       "    </tr>\n",
       "    <tr>\n",
       "      <th>1</th>\n",
       "      <td>4</td>\n",
       "      <td>[(Man, AT), (had, AT), (enough, AT), (to, AT),...</td>\n",
       "    </tr>\n",
       "    <tr>\n",
       "      <th>2</th>\n",
       "      <td>6</td>\n",
       "      <td>[(He, AT), (trudged, AT), (on, AT), (,, AT), (...</td>\n",
       "    </tr>\n",
       "    <tr>\n",
       "      <th>3</th>\n",
       "      <td>12</td>\n",
       "      <td>[(``, AT), (But, AT), (I, AT), (believe, AT), ...</td>\n",
       "    </tr>\n",
       "    <tr>\n",
       "      <th>4</th>\n",
       "      <td>15</td>\n",
       "      <td>[(then, RB), (,, ,), (to, IN), (better, JJ), (...</td>\n",
       "    </tr>\n",
       "    <tr>\n",
       "      <th>...</th>\n",
       "      <td>...</td>\n",
       "      <td>...</td>\n",
       "    </tr>\n",
       "    <tr>\n",
       "      <th>3995</th>\n",
       "      <td>9990</td>\n",
       "      <td>[(The, AT), (way, NN), (MacArthur, NN), (said,...</td>\n",
       "    </tr>\n",
       "    <tr>\n",
       "      <th>3996</th>\n",
       "      <td>9991</td>\n",
       "      <td>[(urged, AT), (the, NN), (reconvention, NN), (...</td>\n",
       "    </tr>\n",
       "    <tr>\n",
       "      <th>3997</th>\n",
       "      <td>9994</td>\n",
       "      <td>[(A, AT), (prospective, JJ), (industry, NN), (...</td>\n",
       "    </tr>\n",
       "    <tr>\n",
       "      <th>3998</th>\n",
       "      <td>9997</td>\n",
       "      <td>[(Mr., AT), (McCormack, AT), (., AT)]</td>\n",
       "    </tr>\n",
       "    <tr>\n",
       "      <th>3999</th>\n",
       "      <td>9998</td>\n",
       "      <td>[(To, AT), (encourage, AT), (exploration, AT),...</td>\n",
       "    </tr>\n",
       "  </tbody>\n",
       "</table>\n",
       "<p>4000 rows × 2 columns</p>\n",
       "</div>"
      ],
      "text/plain": [
       "        id                                    tagged_sentence\n",
       "0        3  [(For, AT), (you, AT), (have, AT), (been, AT),...\n",
       "1        4  [(Man, AT), (had, AT), (enough, AT), (to, AT),...\n",
       "2        6  [(He, AT), (trudged, AT), (on, AT), (,, AT), (...\n",
       "3       12  [(``, AT), (But, AT), (I, AT), (believe, AT), ...\n",
       "4       15  [(then, RB), (,, ,), (to, IN), (better, JJ), (...\n",
       "...    ...                                                ...\n",
       "3995  9990  [(The, AT), (way, NN), (MacArthur, NN), (said,...\n",
       "3996  9991  [(urged, AT), (the, NN), (reconvention, NN), (...\n",
       "3997  9994  [(A, AT), (prospective, JJ), (industry, NN), (...\n",
       "3998  9997              [(Mr., AT), (McCormack, AT), (., AT)]\n",
       "3999  9998  [(To, AT), (encourage, AT), (exploration, AT),...\n",
       "\n",
       "[4000 rows x 2 columns]"
      ]
     },
     "execution_count": 209,
     "metadata": {},
     "output_type": "execute_result"
    }
   ],
   "source": [
    "predictions = pd.DataFrame(columns = [\"id\" , \"tagged_sentence\"])\n",
    "predictions['id'] = test['id']\n",
    "predictions['tagged_sentence'] = my_list\n",
    "predictions"
   ]
  },
  {
   "cell_type": "code",
   "execution_count": 210,
   "id": "64f8e32b",
   "metadata": {},
   "outputs": [],
   "source": [
    "predictions.to_csv(\"submission_10.csv\" , index = False)"
   ]
  },
  {
   "cell_type": "code",
   "execution_count": null,
   "id": "55f0ee02",
   "metadata": {},
   "outputs": [],
   "source": []
  },
  {
   "cell_type": "code",
   "execution_count": null,
   "id": "84cf96e1",
   "metadata": {},
   "outputs": [],
   "source": []
  }
 ],
 "metadata": {
  "kernelspec": {
   "display_name": "Python 3 (ipykernel)",
   "language": "python",
   "name": "python3"
  },
  "language_info": {
   "codemirror_mode": {
    "name": "ipython",
    "version": 3
   },
   "file_extension": ".py",
   "mimetype": "text/x-python",
   "name": "python",
   "nbconvert_exporter": "python",
   "pygments_lexer": "ipython3",
   "version": "3.10.9"
  }
 },
 "nbformat": 4,
 "nbformat_minor": 5
}
